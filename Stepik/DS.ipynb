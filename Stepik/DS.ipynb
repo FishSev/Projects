{
 "cells": [
  {
   "cell_type": "markdown",
   "metadata": {},
   "source": [
    "Убедимся в том, что всё так происходит на самом деле. Скачайте тренировочный датасэт с ирисами, обучите деревья с глубиной от 1 до 100. Целевой переменной при обучении является переменная species. При этом записывайте его скор (DecisionTreeClassifier.score()) на тренировочных данных, и аккуратность предсказаний (accuracy_score) на тестовом датасэте. Затем визуализируйте зависимость скора и аккуратности предсказаний от глубины дерева и выберите правильную визуализацию из предложенных."
   ]
  },
  {
   "cell_type": "code",
   "execution_count": null,
   "metadata": {},
   "outputs": [],
   "source": [
    "import pandas as pd\n",
    "import numpy as np\n",
    "from matplotlib import pyplot as plt\n",
    "\n",
    "df_train = pd.read_csv(r\"C:\\Users\\ilyas\\Dropbox\\Stepik\\train_iris.csv\", index_col=0)\n",
    "\n",
    "df_test = pd.read_csv(r\"C:\\Users\\ilyas\\Dropbox\\Stepik\\test_iris.csv\", index_col=0)\n",
    "\n",
    "np.random.seed(0)\n",
    "\n",
    "from sklearn import tree\n",
    "\n",
    "x = [i for i in range(1,101)]\n",
    "accurancy = []\n",
    "score = []\n",
    "for i in range(1,101):\n",
    "    clf = tree.DecisionTreeClassifier(max_depth = i)\n",
    "    clf = clf.fit(df_train.iloc[:,:-1], df_train.iloc[:,-1:])\n",
    "\n",
    "    prediction = clf.predict(df_test.iloc[:,:-1])\n",
    "\n",
    "    from sklearn.metrics import accuracy_score\n",
    "    accurancy.append(accuracy_score(prediction,df_test.iloc[:,-1:]))\n",
    "    score.append(clf.score(df_train.iloc[:,:-1], df_train.iloc[:,-1:]))\n",
    "\n",
    "\n",
    "\n",
    "plt.plot(x,accurancy,score,\"r\")\n"
   ]
  },
  {
   "cell_type": "markdown",
   "metadata": {},
   "source": [
    "Мы собрали побольше данных о котиках и собачках, и готовы обучить нашего робота их классифицировать! Скачайте тренировочный датасэт и  обучите на нём Decision Tree. После этого скачайте датасэт из задания и предскажите какие наблюдения к кому относятся. Введите число собачек в вашем датасэте.\n",
    "\n",
    "В задании допускается определённая погрешность.\n",
    "\n",
    "P. S.: данные в задании находятся в формате json, используйте метод pd.read_json для их прочтения"
   ]
  },
  {
   "cell_type": "code",
   "execution_count": null,
   "metadata": {},
   "outputs": [],
   "source": [
    "import pandas as pd\n",
    "import numpy as np\n",
    "from matplotlib import pyplot as plt\n",
    "\n",
    "df_train = pd.read_csv(r\"C:\\Users\\ilyas\\Dropbox\\Stepik\\dogs_n_cats.csv\")\n",
    "\n",
    "df_test = pd.read_json(r\"C:\\Users\\ilyas\\Dropbox\\Stepik\\dataset_209691_15.txt\")\n",
    "\n",
    "from sklearn import tree\n",
    "\n",
    "clf = tree.DecisionTreeClassifier(max_depth = 5)\n",
    "clf = clf.fit(df_train.iloc[:,:-1], df_train.iloc[:,-1:])\n",
    "\n",
    "prediction = clf.predict(df_test)\n",
    "\n",
    "\n",
    "print(sum(prediction==\"собачка\"))"
   ]
  },
  {
   "cell_type": "code",
   "execution_count": null,
   "metadata": {},
   "outputs": [],
   "source": [
    "import pandas as pd\n",
    "from sklearn.tree import DecisionTreeClassifier\n",
    "from sklearn import tree\n",
    "from sklearn.metrics import precision_score\n",
    "from matplotlib import pyplot as plt\n",
    "\n",
    "df = pd.read_csv(r\"C:\\Users\\ilyas\\Dropbox\\Stepik\\train_data_tree.csv\")\n",
    "\n",
    "clf = DecisionTreeClassifier(criterion = \"entropy\")\n",
    "\n",
    "model = clf.fit(df.iloc[:,:-1],df.iloc[:,-1])\n",
    "\n",
    "tree.plot_tree(clf, filled=True)"
   ]
  },
  {
   "cell_type": "code",
   "execution_count": null,
   "metadata": {},
   "outputs": [],
   "source": []
  },
  {
   "cell_type": "code",
   "execution_count": null,
   "metadata": {},
   "outputs": [],
   "source": [
    "import pandas as pd\n",
    "df = pd.read_csv(r\"C:\\Users\\ilyas\\Dropbox\\Stepik\\training_mush.csv\")\n",
    "\n",
    "from sklearn.ensemble import RandomForestClassifier\n",
    "from sklearn.model_selection import GridSearchCV\n",
    "\n",
    "clf = RandomForestClassifier(random_state=0)\n",
    "parametres = {\"n_estimators\":range(10,51,10), \"max_depth\": range(1,13,2), \"min_samples_leaf\":range(1,8), \"min_samples_split\":range(2,10,2)}\n",
    "grid_clf = GridSearchCV(clf,parametres, cv=3, n_jobs=-1)\n",
    "\n",
    "grid_clf.fit(df.iloc[:,:-1],df.iloc[:,-1])\n"
   ]
  },
  {
   "cell_type": "code",
   "execution_count": null,
   "metadata": {},
   "outputs": [],
   "source": [
    "grid_clf.best_params_\n",
    "model = grid_clf.fit(df.iloc[:,:-1],df.iloc[:,-1])"
   ]
  },
  {
   "cell_type": "code",
   "execution_count": null,
   "metadata": {},
   "outputs": [],
   "source": [
    "print(model.best_params_)\n",
    "\n",
    "\n",
    "clf_full = RandomForestClassifier(max_depth = 9, min_samples_leaf = 1, min_samples_split =2, n_estimators=10,random_state=0)"
   ]
  },
  {
   "cell_type": "code",
   "execution_count": null,
   "metadata": {},
   "outputs": [],
   "source": [
    "clf_full.fit(df.iloc[:,:-1],df.iloc[:,-1])\n",
    "\n",
    "\n",
    "df.columns.to_list()\n",
    "new_df = pd.DataFrame()\n",
    "new_df[\"features\"] = clf_full.feature_importances_.astype(float)\n",
    "new_df[\"names\"] = df.columns.to_list()[:-1]\n",
    "new_df.sort_values(by=[\"features\"],ascending=False, inplace = True)\n",
    "\n",
    "\n",
    "df_test = pd.read_csv(\"https://stepik.org/media/attachments/course/4852/testing_mush.csv\")"
   ]
  },
  {
   "cell_type": "code",
   "execution_count": null,
   "metadata": {},
   "outputs": [],
   "source": [
    "pred = clf_full.predict(df_test)\n",
    "\n",
    "sum(pred == 1)"
   ]
  },
  {
   "cell_type": "code",
   "execution_count": null,
   "metadata": {},
   "outputs": [],
   "source": [
    "mdf_mush = pd.read_csv(r\"C:\\Users\\ilyas\\Dropbox\\Stepik\\testing_y_mush.csv\")\n",
    "\n",
    "from sklearn.metrics import confusion_matrix\n",
    "\n",
    "mtrx = confusion_matrix(mdf_mush,pred)\n",
    "\n",
    "import seaborn as sns\n",
    "\n",
    "sns.heatmap(confusion_matrix(mdf_mush, pred), annot=True, cmap=\"Blues\")\n",
    "\n"
   ]
  },
  {
   "cell_type": "code",
   "execution_count": null,
   "metadata": {},
   "outputs": [],
   "source": [
    "import pandas as pd\n",
    "df = pd.read_csv(r\"C:\\Users\\ilyas\\Dropbox\\Stepik\\invasion.csv\")\n",
    "\n",
    "\n",
    "from sklearn.ensemble import RandomForestClassifier\n",
    "from sklearn.model_selection import GridSearchCV\n",
    "\n",
    "clf = RandomForestClassifier(random_state=0)\n",
    "parametres = {\"n_estimators\":range(10,51,10), \"max_depth\": range(1,13,2), \"min_samples_leaf\":range(1,8), \"min_samples_split\":range(2,10,2)}\n",
    "grid_clf = GridSearchCV(clf,parametres, cv=3, n_jobs=-1)\n",
    "\n",
    "grid_clf.fit(df.iloc[:,1:],df.iloc[:,0])"
   ]
  },
  {
   "cell_type": "code",
   "execution_count": null,
   "metadata": {},
   "outputs": [],
   "source": [
    "grid_clf.best_params_"
   ]
  },
  {
   "cell_type": "code",
   "execution_count": null,
   "metadata": {},
   "outputs": [],
   "source": [
    "full_clf = RandomForestClassifier(max_depth = 3, min_samples_leaf =1, min_samples_split =2, n_estimators =10, random_state=0)"
   ]
  },
  {
   "cell_type": "code",
   "execution_count": null,
   "metadata": {},
   "outputs": [],
   "source": [
    "full_clf.fit(df.iloc[:,1:],df.iloc[:,0])"
   ]
  },
  {
   "cell_type": "code",
   "execution_count": null,
   "metadata": {},
   "outputs": [],
   "source": [
    "test_df=pd.read_csv(r\"C:\\Users\\ilyas\\Dropbox\\Stepik\\operative_information.csv\")"
   ]
  },
  {
   "cell_type": "code",
   "execution_count": null,
   "metadata": {},
   "outputs": [],
   "source": [
    "prediction = full_clf.predict(test_df)"
   ]
  },
  {
   "cell_type": "code",
   "execution_count": null,
   "metadata": {},
   "outputs": [],
   "source": [
    "from collections import Counter\n",
    "\n",
    "cnt = Counter(prediction)\n",
    "cnt"
   ]
  },
  {
   "cell_type": "code",
   "execution_count": null,
   "metadata": {},
   "outputs": [],
   "source": [
    "full_clf.feature_importances_\n",
    "\n",
    "new_df = pd.DataFrame()\n",
    "new_df[\"features\"] = full_clf.feature_importances_.astype(float)\n",
    "new_df[\"names\"] = df.columns.to_list()[:-1]\n",
    "new_df.sort_values(by=[\"features\"],ascending=False, inplace = True)"
   ]
  },
  {
   "cell_type": "code",
   "execution_count": null,
   "metadata": {},
   "outputs": [],
   "source": [
    "new_df"
   ]
  },
  {
   "cell_type": "code",
   "execution_count": null,
   "metadata": {},
   "outputs": [],
   "source": [
    "import pandas as pd\n",
    "import numpy as np\n",
    "df = pd.DataFrame(range(10000000))\n",
    "\n",
    "%time df.apply(np.mean)\n",
    "\n",
    "%time df.apply('mean')\n",
    "\n",
    "%time df.describe().loc['mean']\n",
    "\n",
    "%time df.mean(axis=0)"
   ]
  }
 ],
 "metadata": {
  "interpreter": {
   "hash": "b3ba2566441a7c06988d0923437866b63cedc61552a5af99d1f4fb67d367b25f"
  },
  "kernelspec": {
   "display_name": "Python 3.9.7 64-bit ('base': conda)",
   "language": "python",
   "name": "python3"
  },
  "language_info": {
   "codemirror_mode": {
    "name": "ipython",
    "version": 3
   },
   "file_extension": ".py",
   "mimetype": "text/x-python",
   "name": "python",
   "nbconvert_exporter": "python",
   "pygments_lexer": "ipython3",
   "version": "3.9.7"
  },
  "orig_nbformat": 4
 },
 "nbformat": 4,
 "nbformat_minor": 2
}
